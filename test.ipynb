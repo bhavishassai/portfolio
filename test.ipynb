{
 "cells": [
  {
   "cell_type": "code",
   "execution_count": 5,
   "metadata": {},
   "outputs": [
    {
     "name": "stdout",
     "output_type": "stream",
     "text": [
      "https://www.mywebsite.com/en/09-anytextwithnumbers8\n"
     ]
    }
   ],
   "source": [
    "import re\n",
    "\n",
    "pattern = r'https://www.mywebsite.com/en/[0-9]+-[a-zA-Z0-9]+'\n",
    "\n",
    "e = re.compile(pattern)\n",
    "\n",
    "print(e.match('https://www.mywebsite.com/en/09-').group())"
   ]
  },
  {
   "cell_type": "code",
   "execution_count": null,
   "metadata": {},
   "outputs": [],
   "source": []
  }
 ],
 "metadata": {
  "kernelspec": {
   "display_name": "Python 3.10.0 64-bit",
   "language": "python",
   "name": "python3"
  },
  "language_info": {
   "codemirror_mode": {
    "name": "ipython",
    "version": 3
   },
   "file_extension": ".py",
   "mimetype": "text/x-python",
   "name": "python",
   "nbconvert_exporter": "python",
   "pygments_lexer": "ipython3",
   "version": "3.10.0"
  },
  "orig_nbformat": 4,
  "vscode": {
   "interpreter": {
    "hash": "ec1f4382e1796e4aca30cabb0ec51fac13e74831d675e5f70d6623b69632e3ed"
   }
  }
 },
 "nbformat": 4,
 "nbformat_minor": 2
}
